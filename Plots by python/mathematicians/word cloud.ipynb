{
 "cells": [
  {
   "cell_type": "code",
   "execution_count": 1,
   "id": "a8425fed",
   "metadata": {},
   "outputs": [],
   "source": [
    "import numpy as np\n",
    "import pandas as pd\n",
    "from pyecharts.charts import WordCloud\n",
    "from pyecharts import options as opts\n",
    "from pyecharts.globals import SymbolType\n",
    "from pyecharts.charts import Page"
   ]
  },
  {
   "cell_type": "code",
   "execution_count": 2,
   "id": "41aec790",
   "metadata": {},
   "outputs": [],
   "source": [
    "data = pd.read_csv(\"./data_cleaned.csv\", index_col='mathematicians')"
   ]
  },
  {
   "cell_type": "code",
   "execution_count": 3,
   "id": "90187dcb",
   "metadata": {},
   "outputs": [
    {
     "data": {
      "text/plain": [
       "Index(['occupation', 'country of citizenship', 'place of birth',\n",
       "       'date of death', 'educated at', 'employer', 'place of death',\n",
       "       'member of', 'employer.1', 'doctoral advisor',\n",
       "       'languages spoken, written or signed', 'academic degree',\n",
       "       'doctoral student', 'manner of death', 'position held', 'field of work',\n",
       "       'award received', 'Erdős number', 'instance of', 'sex or gender',\n",
       "       'approx. date of birth', 'day of birth', 'month of birth',\n",
       "       'year of birth', 'approx. date of death', 'day of death',\n",
       "       'month of death', 'year of death'],\n",
       "      dtype='object')"
      ]
     },
     "execution_count": 3,
     "metadata": {},
     "output_type": "execute_result"
    }
   ],
   "source": [
    "data.columns"
   ]
  },
  {
   "cell_type": "code",
   "execution_count": 4,
   "id": "7cdace02",
   "metadata": {},
   "outputs": [],
   "source": [
    "field_data = data[['field of work','year of birth']].dropna()\n",
    "field_data['count']=1"
   ]
  },
  {
   "cell_type": "code",
   "execution_count": 5,
   "id": "4984c0d4",
   "metadata": {},
   "outputs": [
    {
     "name": "stdout",
     "output_type": "stream",
     "text": [
      "-410s\n"
     ]
    }
   ],
   "source": [
    "field_data['year'] = 0\n",
    "\n",
    "for mathematicians in field_data.index:\n",
    "    field_data.at[mathematicians,'field of work'] = eval(field_data.at[mathematicians,'field of work'])\n",
    "    try:\n",
    "        field_data.at[mathematicians,'year'] = eval(field_data.at[mathematicians,'year of birth'])+30\n",
    "    except:\n",
    "        print(field_data.at[mathematicians,'year of birth'])"
   ]
  },
  {
   "cell_type": "code",
   "execution_count": 6,
   "id": "4c2da80b",
   "metadata": {},
   "outputs": [],
   "source": [
    "field_data = field_data.explode('field of work')"
   ]
  },
  {
   "cell_type": "code",
   "execution_count": 7,
   "id": "d209cfcd",
   "metadata": {},
   "outputs": [],
   "source": [
    "data1 = field_data[ (field_data['year']<1500)]\n",
    "data2 = field_data[ (field_data['year']>=1500) & (field_data['year']<1800)]\n",
    "data3 = field_data[ (field_data['year']>=1800) & (field_data['year']<1850)]\n",
    "data4 = field_data[ (field_data['year']>=1850) & (field_data['year']<1900)]\n",
    "data5 = field_data[ (field_data['year']>=1900) & (field_data['year']<1950)]\n",
    "data6 = field_data[ (field_data['year']>=1950) & (field_data['year']<1980)]\n",
    "data7 = field_data[ (field_data['year']>=1980) & (field_data['year']<2020)]"
   ]
  },
  {
   "cell_type": "code",
   "execution_count": 8,
   "id": "e182207d",
   "metadata": {},
   "outputs": [],
   "source": [
    "g = data1[['field of work','count']].groupby(['field of work']).count()\n",
    "l = g.to_dict('dict')\n",
    "words_list1 = list(zip(l['count'].keys(),l['count'].values()))\n",
    "\n",
    "g = data2[['field of work','count']].groupby(['field of work']).count()\n",
    "l = g.to_dict('dict')\n",
    "words_list2 = list(zip(l['count'].keys(),l['count'].values()))\n",
    "\n",
    "\n",
    "g = data3[['field of work','count']].groupby(['field of work']).count()\n",
    "l = g.to_dict('dict')\n",
    "words_list3 = list(zip(l['count'].keys(),l['count'].values()))\n",
    "\n",
    "g = data4[['field of work','count']].groupby(['field of work']).count()\n",
    "l = g.to_dict('dict')\n",
    "words_list4 = list(zip(l['count'].keys(),l['count'].values()))\n",
    "\n",
    "g = data5[['field of work','count']].groupby(['field of work']).count()\n",
    "l = g.to_dict('dict')\n",
    "words_list5 = list(zip(l['count'].keys(),l['count'].values()))\n",
    "\n",
    "g = data6[['field of work','count']].groupby(['field of work']).count()\n",
    "l = g.to_dict('dict')\n",
    "words_list6 = list(zip(l['count'].keys(),l['count'].values()))\n",
    "\n",
    "g = data7[['field of work','count']].groupby(['field of work']).count()\n",
    "l = g.to_dict('dict')\n",
    "words_list7 = list(zip(l['count'].keys(),l['count'].values()))"
   ]
  },
  {
   "cell_type": "code",
   "execution_count": 9,
   "id": "ad42d130",
   "metadata": {},
   "outputs": [
    {
     "data": {
      "text/plain": [
       "'C:\\\\Users\\\\Sasa\\\\Desktop\\\\Study\\\\College\\\\Python\\\\数据科学导论\\\\Project\\\\mathematicians\\\\词云图.html'"
      ]
     },
     "execution_count": 9,
     "metadata": {},
     "output_type": "execute_result"
    }
   ],
   "source": [
    "c1 = (\n",
    "    WordCloud()\n",
    "    .add('', words_list1, word_size_range=[15,50], word_gap=5, is_draw_out_of_bound=True, shape=\"triangleforward\",\n",
    "         textstyle_opts=opts.TextStyleOpts(font_family='Microsoft YaHei', font_size='bold'))\n",
    "    .set_global_opts(\n",
    "        title_opts=opts.TitleOpts(title='time: -1500', title_textstyle_opts=opts.TextStyleOpts(font_size=25)))\n",
    ")\n",
    "c2 = (\n",
    "    WordCloud()\n",
    "    .add('', words_list2, word_size_range=[15,50], word_gap=5, is_draw_out_of_bound=True, shape=\"triangleforward\",\n",
    "         textstyle_opts=opts.TextStyleOpts(font_family='Microsoft YaHei', font_size='bold'))\n",
    "    .set_global_opts(\n",
    "        title_opts=opts.TitleOpts(title='time:1500-1800', title_textstyle_opts=opts.TextStyleOpts(font_size=25)))\n",
    ")\n",
    "c3 = (\n",
    "    WordCloud()\n",
    "    .add('', words_list3, word_size_range=[15,50], word_gap=5, is_draw_out_of_bound=True, shape=\"triangleforward\",\n",
    "         textstyle_opts=opts.TextStyleOpts(font_family='Microsoft YaHei', font_size='bold'))\n",
    "    .set_global_opts(\n",
    "        title_opts=opts.TitleOpts(title='time:1800-1850', title_textstyle_opts=opts.TextStyleOpts(font_size=25)))\n",
    ")\n",
    "c4 = (\n",
    "    WordCloud()\n",
    "    .add('', words_list4, word_size_range=[10,50], word_gap=5, is_draw_out_of_bound=True, shape=\"triangleforward\",\n",
    "         textstyle_opts=opts.TextStyleOpts(font_family='Microsoft YaHei', font_size='bold'))\n",
    "    .set_global_opts(\n",
    "        title_opts=opts.TitleOpts(title='time:1850:1900', title_textstyle_opts=opts.TextStyleOpts(font_size=25)))\n",
    ")\n",
    "c5 = (\n",
    "    WordCloud()\n",
    "    .add('', words_list5, word_size_range=[8,50], word_gap=5, is_draw_out_of_bound=True, shape=\"triangleforward\",\n",
    "         textstyle_opts=opts.TextStyleOpts(font_family='Microsoft YaHei', font_size='bold'))\n",
    "    .set_global_opts(\n",
    "        title_opts=opts.TitleOpts(title='time:1900-1950', title_textstyle_opts=opts.TextStyleOpts(font_size=25)))\n",
    ")\n",
    "c6 = (\n",
    "    WordCloud()\n",
    "    .add('', words_list6, word_size_range=[8,50], word_gap=5, is_draw_out_of_bound=True, shape=\"triangleforward\",\n",
    "         textstyle_opts=opts.TextStyleOpts(font_family='Microsoft YaHei', font_size='bold'))\n",
    "    .set_global_opts(\n",
    "        title_opts=opts.TitleOpts(title='time:1950-1980', title_textstyle_opts=opts.TextStyleOpts(font_size=25)))\n",
    ")\n",
    "c7 = (\n",
    "    WordCloud()\n",
    "    .add('', words_list7, word_size_range=[8,50], word_gap=5, is_draw_out_of_bound=True, shape=\"triangleforward\",\n",
    "         textstyle_opts=opts.TextStyleOpts(font_family='Microsoft YaHei', font_size='bold'))\n",
    "    .set_global_opts(\n",
    "        title_opts=opts.TitleOpts(title='time:1980-2020', title_textstyle_opts=opts.TextStyleOpts(font_size=25)))\n",
    ")\n",
    "\n",
    "page = Page()\n",
    "page.add(c1, c2,c3,c4,c5,c6,c7)\n",
    "page.render(\"词云图.html\")"
   ]
  }
 ],
 "metadata": {
  "kernelspec": {
   "display_name": "Python 3 (ipykernel)",
   "language": "python",
   "name": "python3"
  },
  "language_info": {
   "codemirror_mode": {
    "name": "ipython",
    "version": 3
   },
   "file_extension": ".py",
   "mimetype": "text/x-python",
   "name": "python",
   "nbconvert_exporter": "python",
   "pygments_lexer": "ipython3",
   "version": "3.11.4"
  }
 },
 "nbformat": 4,
 "nbformat_minor": 5
}
